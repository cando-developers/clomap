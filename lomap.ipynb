{
 "cells": [
  {
   "cell_type": "code",
   "execution_count": 1,
   "metadata": {},
   "outputs": [
    {
     "name": "stdout",
     "output_type": "stream",
     "text": [
      "Checking SLIME_HOME\n",
      "About to start swank server\n",
      "Started swank server\n"
     ]
    },
    {
     "data": {
      "text/plain": [
       "T"
      ]
     },
     "execution_count": 1,
     "metadata": {},
     "output_type": "execute_result"
    },
    {
     "name": "stderr",
     "output_type": "stream",
     "text": [
      "\n",
      ";; Swank started at port: 4011.\n",
      "\n",
      ";; swank:close-connection: Unexpected end of file on #<TWO-WAY-STREAM >.\n"
     ]
    }
   ],
   "source": [
    "startSwank 4011"
   ]
  },
  {
   "cell_type": "code",
   "execution_count": null,
   "metadata": {},
   "outputs": [],
   "source": [
    "(setf fep::*testing* nil)"
   ]
  },
  {
   "cell_type": "code",
   "execution_count": null,
   "metadata": {},
   "outputs": [],
   "source": [
    "(setf *default-pathname-defaults* #P\"~/Development/fep-benchmark/\")"
   ]
  },
  {
   "cell_type": "code",
   "execution_count": null,
   "metadata": {},
   "outputs": [],
   "source": [
    "(asdf:load-asd \"/Users/Yonkunas/Development/lomap/lomap.asd\")"
   ]
  },
  {
   "cell_type": "code",
   "execution_count": null,
   "metadata": {},
   "outputs": [],
   "source": [
    "(asdf:load-system :lomap)"
   ]
  },
  {
   "cell_type": "code",
   "execution_count": null,
   "metadata": {},
   "outputs": [],
   "source": [
    "(setup-default-paths)"
   ]
  },
  {
   "cell_type": "code",
   "execution_count": null,
   "metadata": {},
   "outputs": [],
   "source": [
    "(load-atom-type-rules \"ATOMTYPE_GFF.DEF\")"
   ]
  },
  {
   "cell_type": "code",
   "execution_count": null,
   "metadata": {},
   "outputs": [],
   "source": [
    "(source \"/usr/local/amber18/dat/leap/cmd/oldff/leaprc.ff14SB.redq\")"
   ]
  },
  {
   "cell_type": "code",
   "execution_count": null,
   "metadata": {},
   "outputs": [],
   "source": [
    "(source \"leaprc.gaff\")"
   ]
  },
  {
   "cell_type": "code",
   "execution_count": null,
   "metadata": {},
   "outputs": [],
   "source": [
    "(leap:add-pdb-res-map '((1 :NMA :NME)))"
   ]
  },
  {
   "cell_type": "code",
   "execution_count": null,
   "metadata": {},
   "outputs": [],
   "source": [
    "(leap:add-pdb-atom-map '((:CA :CH3) (:1HA :HH31) (:2HA :HH32) (:3HA :HH33)\n",
    "                         (:1H :HH31) (:2H :HH32) (:3H :HH33)\n",
    "                         (:H2 :H)))"
   ]
  },
  {
   "cell_type": "code",
   "execution_count": null,
   "metadata": {},
   "outputs": [],
   "source": [
    "(defparameter *tg* (molecule-graph.max-clique::test-cross-product))"
   ]
  },
  {
   "cell_type": "code",
   "execution_count": null,
   "metadata": {},
   "outputs": [],
   "source": [
    "(molecule-graph.max-clique::cross-product-edges *tg*)"
   ]
  },
  {
   "cell_type": "code",
   "execution_count": null,
   "metadata": {},
   "outputs": [],
   "source": [
    "(defparameter *td* (molecule-graph.max-clique::build-dimacs *tg*))"
   ]
  },
  {
   "cell_type": "code",
   "execution_count": null,
   "metadata": {},
   "outputs": [],
   "source": [
    "(defparameter *mc* (molecule-graph.max-clique::dothing *td*))"
   ]
  },
  {
   "cell_type": "code",
   "execution_count": null,
   "metadata": {},
   "outputs": [],
   "source": [
    "*mc*"
   ]
  },
  {
   "cell_type": "code",
   "execution_count": null,
   "metadata": {},
   "outputs": [],
   "source": [
    "(molecule-graph.max-clique::extract-atom-pairs *tg* *mc*)"
   ]
  },
  {
   "cell_type": "code",
   "execution_count": null,
   "metadata": {},
   "outputs": [],
   "source": [
    "(defparameter mols (sdf:load-sdf-as-list-of-molecules \"eg5/ligands_original.sdf\"))"
   ]
  },
  {
   "cell_type": "code",
   "execution_count": null,
   "metadata": {},
   "outputs": [],
   "source": [
    "(lomap::similarity-matrix mols)"
   ]
  },
  {
   "cell_type": "code",
   "execution_count": null,
   "metadata": {},
   "outputs": [],
   "source": [
    "(class-of mols)"
   ]
  },
  {
   "cell_type": "code",
   "execution_count": null,
   "metadata": {},
   "outputs": [],
   "source": [
    "(length mols)"
   ]
  },
  {
   "cell_type": "code",
   "execution_count": null,
   "metadata": {},
   "outputs": [],
   "source": [
    "(molecule-graph.max-clique::rename-atoms (first mols) \"a\")\n",
    "(molecule-graph.max-clique::rename-atoms (second mols) \"b\")"
   ]
  },
  {
   "cell_type": "code",
   "execution_count": null,
   "metadata": {},
   "outputs": [],
   "source": [
    "(defparameter *cg* (multiple-value-list (molecule-graph.max-clique::compare-molecules (first mols) (second mols))))"
   ]
  },
  {
   "cell_type": "code",
   "execution_count": null,
   "metadata": {},
   "outputs": [],
   "source": [
    "(lomap::mcsr-similarity-score (first mols) (second mols))"
   ]
  },
  {
   "cell_type": "code",
   "execution_count": null,
   "metadata": {},
   "outputs": [],
   "source": [
    "*cg*"
   ]
  },
  {
   "cell_type": "code",
   "execution_count": null,
   "metadata": {},
   "outputs": [],
   "source": [
    "(length (first *cg*))"
   ]
  },
  {
   "cell_type": "code",
   "execution_count": null,
   "metadata": {},
   "outputs": [],
   "source": [
    "(+ 19 2)"
   ]
  },
  {
   "cell_type": "code",
   "execution_count": null,
   "metadata": {},
   "outputs": [],
   "source": [
    "(+ 19 4)"
   ]
  },
  {
   "cell_type": "code",
   "execution_count": null,
   "metadata": {},
   "outputs": [],
   "source": [
    "(- (+ 23 21) (* 2 19))"
   ]
  },
  {
   "cell_type": "code",
   "execution_count": null,
   "metadata": {},
   "outputs": [],
   "source": [
    "*cg*"
   ]
  },
  {
   "cell_type": "code",
   "execution_count": null,
   "metadata": {},
   "outputs": [],
   "source": [
    "(multiple-value-list (molecule-graph:compare-molecules (first mols) (second mols) \n",
    "                                                       :atom-match-callback 'molecule-graph:element-match))"
   ]
  },
  {
   "cell_type": "code",
   "execution_count": null,
   "metadata": {},
   "outputs": [],
   "source": [
    "firstsk = (sketch2d:sketch2d (first mols))"
   ]
  },
  {
   "cell_type": "code",
   "execution_count": null,
   "metadata": {},
   "outputs": [],
   "source": [
    "nthsk = (sketch2d:sketch2d (nth 20 mols))"
   ]
  },
  {
   "cell_type": "code",
   "execution_count": null,
   "metadata": {},
   "outputs": [],
   "source": [
    "(first mols)"
   ]
  },
  {
   "cell_type": "code",
   "execution_count": null,
   "metadata": {},
   "outputs": [],
   "source": [
    "(show nthsk)"
   ]
  },
  {
   "cell_type": "code",
   "execution_count": null,
   "metadata": {},
   "outputs": [],
   "source": [
    "(show firstsk)"
   ]
  },
  {
   "cell_type": "code",
   "execution_count": null,
   "metadata": {},
   "outputs": [],
   "source": [
    "(let ((sketch2d::*show-names* t)) (show (sketch2d:sketch2d (first mols))))"
   ]
  },
  {
   "cell_type": "code",
   "execution_count": null,
   "metadata": {},
   "outputs": [],
   "source": [
    "show (defparameter *sk* (sketch2d:similar-sketch2d (nth 18 mols) firstsk))"
   ]
  },
  {
   "cell_type": "code",
   "execution_count": null,
   "metadata": {},
   "outputs": [],
   "source": [
    "show (defparameter *sk* (sketch2d:similar-sketch2d (third mols) firstsk :accumulate-coordinates t))"
   ]
  },
  {
   "cell_type": "code",
   "execution_count": null,
   "metadata": {},
   "outputs": [],
   "source": [
    "(length mols)"
   ]
  },
  {
   "cell_type": "markdown",
   "metadata": {},
   "source": [
    "The following compares every molecule to every other molecule - it will take a LOOONG time"
   ]
  },
  {
   "cell_type": "code",
   "execution_count": null,
   "metadata": {},
   "outputs": [],
   "source": [
    "(loop for xi below (1- (length mols))\n",
    "      for molx = (elt mols xi)\n",
    "      do (format t \"xi -> ~a~%\" xi)\n",
    "      do (finish-output)\n",
    "      do (loop for yi from (1+ xi) below (length mols)\n",
    "               for moly = (elt mols yi)\n",
    "               do (format t \"   yi -> ~a~%\" yi)\n",
    "               do (finish-output)\n",
    "               do (molecule-graph.max-clique:compare-molecules molx moly)))"
   ]
  },
  {
   "cell_type": "code",
   "execution_count": null,
   "metadata": {},
   "outputs": [],
   "source": [
    "(defparameter *d* (sketch2d::dynamics *sk*))"
   ]
  },
  {
   "cell_type": "code",
   "execution_count": null,
   "metadata": {},
   "outputs": [],
   "source": [
    "show *d*"
   ]
  },
  {
   "cell_type": "code",
   "execution_count": null,
   "metadata": {},
   "outputs": [],
   "source": [
    "(defparameter feps (fep:fep-calculation-from-ligands mols))"
   ]
  },
  {
   "cell_type": "code",
   "execution_count": null,
   "metadata": {},
   "outputs": [],
   "source": [
    "(defparameter receptor (load-pdb \"eg5/3l9h_prepared.pdb\"))"
   ]
  },
  {
   "cell_type": "code",
   "execution_count": null,
   "metadata": {},
   "outputs": [],
   "source": [
    ";; For some reason the waters in receptor have residue name 'cando-user::tp3\n",
    ";;  and they need to be :wat\n",
    "(let ((changed 0))\n",
    "  (cando:do-residues (res receptor)\n",
    "    (when (eq (chem:get-name res) 'cando-user::tp3)\n",
    "      (incf changed)\n",
    "      (chem:set-name res :wat)))\n",
    "  (format t \"Changed ~d residue names from 'cando-user::tp3 to :wat~%\" changed))"
   ]
  },
  {
   "cell_type": "code",
   "execution_count": null,
   "metadata": {},
   "outputs": [],
   "source": [
    "(push receptor (fep:receptors feps))"
   ]
  },
  {
   "cell_type": "code",
   "execution_count": null,
   "metadata": {},
   "outputs": [],
   "source": [
    "(fep:build-job-nodes feps)"
   ]
  },
  {
   "cell_type": "code",
   "execution_count": null,
   "metadata": {},
   "outputs": [],
   "source": [
    "(fep:connect-job-nodes feps '((:chembl1082248 :chembl1083517)\n",
    "                              (:chembl1082248 :chembl1084143)\n",
    "                              #+(or)(:chembl1088740 :chembl1093088)))"
   ]
  },
  {
   "cell_type": "code",
   "execution_count": null,
   "metadata": {},
   "outputs": [],
   "source": [
    "(fep:check-calculation-atom-types feps)"
   ]
  },
  {
   "cell_type": "code",
   "execution_count": null,
   "metadata": {},
   "outputs": [],
   "source": [
    "(let* ((*default-pathname-defaults* (merge-pathnames #P\"cando-fep-benchmarks/eg5/full/\"))\n",
    "       (worklist\n",
    "         (progn\n",
    "           (format t \"generate-jobs to *default-pathname-defaults* -> ~s~%\" *default-pathname-defaults*)\n",
    "           (fep:generate-jobs feps))))\n",
    "  (with-open-file (fout #P\"jobs/conf.sh\" :direction :output :if-exists :supersede)\n",
    "    (format fout \"pmemd_cuda=pmemd.cuda\n",
    "execute_cpu_local=0\n",
    "execute_gpu_local=0\n",
    "execute_lisp_local=0\n",
    "worker=schando\n",
    "distributor=s103.thirdlaw.tech\n",
    "lisp_jobs_only_on=172.234.2.1\n",
    "\"))\n",
    "  (with-open-file (sout \"/tmp/eg5.dot\" :direction :output)\n",
    "    (fepdot:draw-graph-stream (list worklist) sout))\n",
    "  )"
   ]
  }
 ],
 "metadata": {
  "kernelspec": {
   "display_name": "cando",
   "language": "lisp",
   "name": "cando"
  },
  "language_info": {
   "codemirror_mode": "text/x-common-lisp",
   "file_extension": ".lisp",
   "mimetype": "text/x-common-lisp",
   "name": "common-lisp",
   "pygments_lexer": "common-lisp",
   "version": "X3J13"
  }
 },
 "nbformat": 4,
 "nbformat_minor": 2
}
